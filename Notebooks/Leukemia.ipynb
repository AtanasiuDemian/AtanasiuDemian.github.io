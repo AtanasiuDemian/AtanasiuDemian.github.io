{
 "cells": [
  {
   "cell_type": "markdown",
   "metadata": {},
   "source": [
    "# Leukemia Classification by Gene Expressions"
   ]
  },
  {
   "cell_type": "markdown",
   "metadata": {},
   "source": [
    "In this notebook I will be looking at a high-dimensional dataset comprising gene expressions and build a classification model to predict two types of leukemia: acute myeloid leukemia (AML) and acute lymphoblastic leukemia (ALL). The dataset was used in the following paper:\n",
    "\n",
    "Golu, et al. $\\textit{Molecular Classification of Cancer: Class Discovery and Class Prediction by Gene Expression}$, Science, 15 Oct. 1999, Vol. 286, Issue 5439, pp. 531-537. More information about the study is found [here](http://science.sciencemag.org/content/286/5439/531)"
   ]
  },
  {
   "cell_type": "code",
   "execution_count": 1,
   "metadata": {},
   "outputs": [
    {
     "name": "stderr",
     "output_type": "stream",
     "text": [
      "C:\\Anaconda\\lib\\site-packages\\statsmodels\\compat\\pandas.py:56: FutureWarning: The pandas.core.datetools module is deprecated and will be removed in a future version. Please use the pandas.tseries module instead.\n",
      "  from pandas.core import datetools\n"
     ]
    }
   ],
   "source": [
    "import numpy as np\n",
    "import pandas as pd\n",
    "import matplotlib.pyplot as plt\n",
    "import statsmodels.api as sm\n",
    "from sklearn.linear_model import LogisticRegression, LogisticRegressionCV\n",
    "from sklearn.decomposition import PCA\n",
    "from sklearn.model_selection import cross_val_score, train_test_split\n",
    "from sklearn.metrics import accuracy_score, classification_report, confusion_matrix\n",
    "%matplotlib inline\n",
    "\n",
    "np.random.seed(9001)"
   ]
  },
  {
   "cell_type": "code",
   "execution_count": 2,
   "metadata": {},
   "outputs": [
    {
     "data": {
      "text/html": [
       "<div>\n",
       "<style>\n",
       "    .dataframe thead tr:only-child th {\n",
       "        text-align: right;\n",
       "    }\n",
       "\n",
       "    .dataframe thead th {\n",
       "        text-align: left;\n",
       "    }\n",
       "\n",
       "    .dataframe tbody tr th {\n",
       "        vertical-align: top;\n",
       "    }\n",
       "</style>\n",
       "<table border=\"1\" class=\"dataframe\">\n",
       "  <thead>\n",
       "    <tr style=\"text-align: right;\">\n",
       "      <th></th>\n",
       "      <th>Cancer_type</th>\n",
       "      <th>AFFX-BioB-5_at</th>\n",
       "      <th>AFFX-BioB-M_at</th>\n",
       "      <th>AFFX-BioB-3_at</th>\n",
       "      <th>AFFX-BioC-5_at</th>\n",
       "      <th>AFFX-BioC-3_at</th>\n",
       "      <th>AFFX-BioDn-5_at</th>\n",
       "      <th>AFFX-BioDn-3_at</th>\n",
       "      <th>AFFX-CreX-5_at</th>\n",
       "      <th>AFFX-CreX-3_at</th>\n",
       "      <th>...</th>\n",
       "      <th>U48730_at</th>\n",
       "      <th>U58516_at</th>\n",
       "      <th>U73738_at</th>\n",
       "      <th>X06956_at</th>\n",
       "      <th>X16699_at</th>\n",
       "      <th>X83863_at</th>\n",
       "      <th>Z17240_at</th>\n",
       "      <th>L49218_f_at</th>\n",
       "      <th>M71243_f_at</th>\n",
       "      <th>Z78285_f_at</th>\n",
       "    </tr>\n",
       "  </thead>\n",
       "  <tbody>\n",
       "    <tr>\n",
       "      <th>0</th>\n",
       "      <td>0</td>\n",
       "      <td>-214</td>\n",
       "      <td>-153</td>\n",
       "      <td>-58</td>\n",
       "      <td>88</td>\n",
       "      <td>-295</td>\n",
       "      <td>-558</td>\n",
       "      <td>199</td>\n",
       "      <td>-176</td>\n",
       "      <td>252</td>\n",
       "      <td>...</td>\n",
       "      <td>185</td>\n",
       "      <td>511</td>\n",
       "      <td>-125</td>\n",
       "      <td>389</td>\n",
       "      <td>-37</td>\n",
       "      <td>793</td>\n",
       "      <td>329</td>\n",
       "      <td>36</td>\n",
       "      <td>191</td>\n",
       "      <td>-37</td>\n",
       "    </tr>\n",
       "    <tr>\n",
       "      <th>1</th>\n",
       "      <td>0</td>\n",
       "      <td>-135</td>\n",
       "      <td>-114</td>\n",
       "      <td>265</td>\n",
       "      <td>12</td>\n",
       "      <td>-419</td>\n",
       "      <td>-585</td>\n",
       "      <td>158</td>\n",
       "      <td>-253</td>\n",
       "      <td>49</td>\n",
       "      <td>...</td>\n",
       "      <td>240</td>\n",
       "      <td>835</td>\n",
       "      <td>218</td>\n",
       "      <td>174</td>\n",
       "      <td>-110</td>\n",
       "      <td>627</td>\n",
       "      <td>170</td>\n",
       "      <td>-50</td>\n",
       "      <td>126</td>\n",
       "      <td>-91</td>\n",
       "    </tr>\n",
       "    <tr>\n",
       "      <th>2</th>\n",
       "      <td>0</td>\n",
       "      <td>-106</td>\n",
       "      <td>-125</td>\n",
       "      <td>-76</td>\n",
       "      <td>168</td>\n",
       "      <td>-230</td>\n",
       "      <td>-284</td>\n",
       "      <td>4</td>\n",
       "      <td>-122</td>\n",
       "      <td>70</td>\n",
       "      <td>...</td>\n",
       "      <td>156</td>\n",
       "      <td>649</td>\n",
       "      <td>57</td>\n",
       "      <td>504</td>\n",
       "      <td>-26</td>\n",
       "      <td>250</td>\n",
       "      <td>314</td>\n",
       "      <td>14</td>\n",
       "      <td>56</td>\n",
       "      <td>-25</td>\n",
       "    </tr>\n",
       "    <tr>\n",
       "      <th>3</th>\n",
       "      <td>0</td>\n",
       "      <td>-72</td>\n",
       "      <td>-144</td>\n",
       "      <td>238</td>\n",
       "      <td>55</td>\n",
       "      <td>-399</td>\n",
       "      <td>-551</td>\n",
       "      <td>131</td>\n",
       "      <td>-179</td>\n",
       "      <td>126</td>\n",
       "      <td>...</td>\n",
       "      <td>30</td>\n",
       "      <td>819</td>\n",
       "      <td>-178</td>\n",
       "      <td>151</td>\n",
       "      <td>-18</td>\n",
       "      <td>1140</td>\n",
       "      <td>482</td>\n",
       "      <td>10</td>\n",
       "      <td>369</td>\n",
       "      <td>-42</td>\n",
       "    </tr>\n",
       "    <tr>\n",
       "      <th>4</th>\n",
       "      <td>0</td>\n",
       "      <td>-413</td>\n",
       "      <td>-260</td>\n",
       "      <td>7</td>\n",
       "      <td>-2</td>\n",
       "      <td>-541</td>\n",
       "      <td>-790</td>\n",
       "      <td>-275</td>\n",
       "      <td>-463</td>\n",
       "      <td>70</td>\n",
       "      <td>...</td>\n",
       "      <td>289</td>\n",
       "      <td>629</td>\n",
       "      <td>-86</td>\n",
       "      <td>302</td>\n",
       "      <td>23</td>\n",
       "      <td>1798</td>\n",
       "      <td>446</td>\n",
       "      <td>59</td>\n",
       "      <td>781</td>\n",
       "      <td>20</td>\n",
       "    </tr>\n",
       "  </tbody>\n",
       "</table>\n",
       "<p>5 rows × 7130 columns</p>\n",
       "</div>"
      ],
      "text/plain": [
       "   Cancer_type  AFFX-BioB-5_at  AFFX-BioB-M_at  AFFX-BioB-3_at  \\\n",
       "0            0            -214            -153             -58   \n",
       "1            0            -135            -114             265   \n",
       "2            0            -106            -125             -76   \n",
       "3            0             -72            -144             238   \n",
       "4            0            -413            -260               7   \n",
       "\n",
       "   AFFX-BioC-5_at  AFFX-BioC-3_at  AFFX-BioDn-5_at  AFFX-BioDn-3_at  \\\n",
       "0              88            -295             -558              199   \n",
       "1              12            -419             -585              158   \n",
       "2             168            -230             -284                4   \n",
       "3              55            -399             -551              131   \n",
       "4              -2            -541             -790             -275   \n",
       "\n",
       "   AFFX-CreX-5_at  AFFX-CreX-3_at     ...       U48730_at  U58516_at  \\\n",
       "0            -176             252     ...             185        511   \n",
       "1            -253              49     ...             240        835   \n",
       "2            -122              70     ...             156        649   \n",
       "3            -179             126     ...              30        819   \n",
       "4            -463              70     ...             289        629   \n",
       "\n",
       "   U73738_at  X06956_at  X16699_at  X83863_at  Z17240_at  L49218_f_at  \\\n",
       "0       -125        389        -37        793        329           36   \n",
       "1        218        174       -110        627        170          -50   \n",
       "2         57        504        -26        250        314           14   \n",
       "3       -178        151        -18       1140        482           10   \n",
       "4        -86        302         23       1798        446           59   \n",
       "\n",
       "   M71243_f_at  Z78285_f_at  \n",
       "0          191          -37  \n",
       "1          126          -91  \n",
       "2           56          -25  \n",
       "3          369          -42  \n",
       "4          781           20  \n",
       "\n",
       "[5 rows x 7130 columns]"
      ]
     },
     "execution_count": 2,
     "metadata": {},
     "output_type": "execute_result"
    }
   ],
   "source": [
    "df = pd.read_csv('https://raw.githubusercontent.com/AtanasiuDemian/a-2017/master/hwassets/data/dataset_hw5.csv')\n",
    "df.head()"
   ]
  },
  {
   "cell_type": "code",
   "execution_count": 3,
   "metadata": {},
   "outputs": [
    {
     "data": {
      "text/plain": [
       "((32, 7130), (41, 7130))"
      ]
     },
     "execution_count": 3,
     "metadata": {},
     "output_type": "execute_result"
    }
   ],
   "source": [
    "msk = np.random.rand(len(df)) < 0.5\n",
    "train = df[msk]\n",
    "test = df[~msk]\n",
    "train.shape, test.shape"
   ]
  },
  {
   "cell_type": "code",
   "execution_count": 4,
   "metadata": {},
   "outputs": [
    {
     "data": {
      "text/plain": [
       "((32, 7130), (41, 7130))"
      ]
     },
     "execution_count": 4,
     "metadata": {},
     "output_type": "execute_result"
    }
   ],
   "source": [
    "train.shape, test.shape"
   ]
  },
  {
   "cell_type": "markdown",
   "metadata": {},
   "source": [
    "The data contains 7129 gene measurements for 72 pacients, hence we have a very high ratio of number of predictors to number of samples."
   ]
  },
  {
   "cell_type": "markdown",
   "metadata": {},
   "source": [
    "Before building a classification model, I will normalize all predictors:"
   ]
  },
  {
   "cell_type": "code",
   "execution_count": 5,
   "metadata": {
    "collapsed": true
   },
   "outputs": [],
   "source": [
    "train_min, train_max = train.min(), train.max()\n",
    "train = (train - train.min())/(train.max() - train.min())\n",
    "test = (test - test.min())/(test.max() - test.min())"
   ]
  },
  {
   "cell_type": "markdown",
   "metadata": {},
   "source": [
    "For visualizing the data we can use Principal Components Analysis (PCA). By plotting the first and second principal components against each other, we can obtain a two-dimensional representation of the data that captures most of the variance."
   ]
  },
  {
   "cell_type": "code",
   "execution_count": 6,
   "metadata": {},
   "outputs": [
    {
     "data": {
      "text/html": [
       "<div>\n",
       "<style>\n",
       "    .dataframe thead tr:only-child th {\n",
       "        text-align: right;\n",
       "    }\n",
       "\n",
       "    .dataframe thead th {\n",
       "        text-align: left;\n",
       "    }\n",
       "\n",
       "    .dataframe tbody tr th {\n",
       "        vertical-align: top;\n",
       "    }\n",
       "</style>\n",
       "<table border=\"1\" class=\"dataframe\">\n",
       "  <thead>\n",
       "    <tr style=\"text-align: right;\">\n",
       "      <th></th>\n",
       "      <th>Cancer_type</th>\n",
       "      <th>PC1</th>\n",
       "      <th>PC2</th>\n",
       "    </tr>\n",
       "  </thead>\n",
       "  <tbody>\n",
       "    <tr>\n",
       "      <th>0</th>\n",
       "      <td>0.0</td>\n",
       "      <td>7.667012</td>\n",
       "      <td>-0.181414</td>\n",
       "    </tr>\n",
       "    <tr>\n",
       "      <th>5</th>\n",
       "      <td>0.0</td>\n",
       "      <td>-8.705269</td>\n",
       "      <td>-3.125841</td>\n",
       "    </tr>\n",
       "    <tr>\n",
       "      <th>9</th>\n",
       "      <td>0.0</td>\n",
       "      <td>21.341975</td>\n",
       "      <td>8.695756</td>\n",
       "    </tr>\n",
       "    <tr>\n",
       "      <th>12</th>\n",
       "      <td>0.0</td>\n",
       "      <td>11.527633</td>\n",
       "      <td>23.669014</td>\n",
       "    </tr>\n",
       "    <tr>\n",
       "      <th>13</th>\n",
       "      <td>0.0</td>\n",
       "      <td>-7.842507</td>\n",
       "      <td>7.473386</td>\n",
       "    </tr>\n",
       "  </tbody>\n",
       "</table>\n",
       "</div>"
      ],
      "text/plain": [
       "    Cancer_type        PC1        PC2\n",
       "0           0.0   7.667012  -0.181414\n",
       "5           0.0  -8.705269  -3.125841\n",
       "9           0.0  21.341975   8.695756\n",
       "12          0.0  11.527633  23.669014\n",
       "13          0.0  -7.842507   7.473386"
      ]
     },
     "execution_count": 6,
     "metadata": {},
     "output_type": "execute_result"
    }
   ],
   "source": [
    "# Compute the principal components\n",
    "pca = PCA(n_components=2)\n",
    "predictors = train.drop('Cancer_type', axis=1).columns\n",
    "data_train_pca = pca.fit_transform(train[predictors])\n",
    "dfpca=pd.DataFrame(dict(Cancer_type=train.Cancer_type))\n",
    "for i in range(data_train_pca.shape[1]):\n",
    "    dfpca['PC%d'%(i+1)]=data_train_pca[:,i]\n",
    "dfpca.head()"
   ]
  },
  {
   "cell_type": "code",
   "execution_count": 7,
   "metadata": {},
   "outputs": [
    {
     "data": {
      "text/plain": [
       "<matplotlib.legend.Legend at 0x5d3ea7df28>"
      ]
     },
     "execution_count": 7,
     "metadata": {},
     "output_type": "execute_result"
    },
    {
     "data": {
      "image/png": "[encoded data removed]",
      "text/plain": [
       "<matplotlib.figure.Figure at 0x5d3ebd4390>"
      ]
     },
     "metadata": {},
     "output_type": "display_data"
    }
   ],
   "source": [
    "labels = ['ALL', 'AML']\n",
    "fig, ax = plt.subplots(1,1,figsize=(10,7))\n",
    "for l in dfpca.Cancer_type.unique():\n",
    "    mask = dfpca.Cancer_type==l\n",
    "    ax.scatter(dfpca[mask]['PC1'], dfpca[mask]['PC2'], label=labels[int(l)], alpha=0.8)\n",
    "ax.set_xlabel('PC1')\n",
    "ax.set_ylabel('PC2')\n",
    "ax.legend(loc='best')"
   ]
  },
  {
   "cell_type": "markdown",
   "metadata": {},
   "source": [
    "It looks like we can't really separate the points clearly."
   ]
  },
  {
   "cell_type": "markdown",
   "metadata": {},
   "source": [
    "## 1 . Simple Logistic Regression"
   ]
  },
  {
   "cell_type": "code",
   "execution_count": 8,
   "metadata": {},
   "outputs": [
    {
     "name": "stdout",
     "output_type": "stream",
     "text": [
      "Accuracy on training set: 0.71875\n",
      "Accuracy on test set: 0.8292682926829268\n"
     ]
    }
   ],
   "source": [
    "X_train, y_train = train.drop('Cancer_type', axis=1), train['Cancer_type']\n",
    "X_test, y_test = test.drop('Cancer_type', axis=1), test['Cancer_type']\n",
    "\n",
    "logreg = LogisticRegression(C=10000000)\n",
    "logreg.fit(X_train[['D29963_at']], y_train)\n",
    "y_pred_train = logreg.predict(X_train[['D29963_at']])\n",
    "y_pred_test = logreg.predict(X_test[['D29963_at']])\n",
    "print('Accuracy on training set: {}\\nAccuracy on test set: {}'.format(accuracy_score(y_train, y_pred_train),\n",
    "                                                                     accuracy_score(y_test, y_pred_test)))"
   ]
  },
  {
   "cell_type": "code",
   "execution_count": 9,
   "metadata": {
    "collapsed": true
   },
   "outputs": [],
   "source": [
    "msk = y_pred_test==1.0\n",
    "aml_vals = X_test.loc[msk, 'D29963_at'].values.reshape(-1,1)\n",
    "all_vals = X_test[~msk]['D29963_at'].values.reshape(-1,1)"
   ]
  },
  {
   "cell_type": "markdown",
   "metadata": {},
   "source": [
    "Plot the predicted probabilities versus the real data, on the test set:"
   ]
  },
  {
   "cell_type": "code",
   "execution_count": 10,
   "metadata": {},
   "outputs": [
    {
     "data": {
      "text/plain": [
       "<matplotlib.legend.Legend at 0x5d3ecb9828>"
      ]
     },
     "execution_count": 10,
     "metadata": {},
     "output_type": "execute_result"
    },
    {
     "data": {
      "image/png": "[encoded data removed]",
      "text/plain": [
       "<matplotlib.figure.Figure at 0x5d3ec78a20>"
      ]
     },
     "metadata": {},
     "output_type": "display_data"
    }
   ],
   "source": [
    "plt.figure(figsize=(10,7))\n",
    "plt.scatter(aml_vals, logreg.predict_proba(aml_vals)[:,1], label = 'Predicted AML', alpha=0.7)\n",
    "plt.scatter(all_vals, logreg.predict_proba(all_vals)[:,1], label='Predicted ALL', alpha=0.7)\n",
    "plt.scatter(X_test['D29963_at'], y_test, label='Data', alpha=0.7)\n",
    "plt.axhline(y=0.5, alpha=0.6)\n",
    "plt.xlabel('D29963_at')\n",
    "plt.legend(loc='best')"
   ]
  },
  {
   "cell_type": "markdown",
   "metadata": {},
   "source": [
    "The classification report and confusion matrix are shown below:"
   ]
  },
  {
   "cell_type": "code",
   "execution_count": 11,
   "metadata": {},
   "outputs": [
    {
     "name": "stdout",
     "output_type": "stream",
     "text": [
      "             precision    recall  f1-score   support\n",
      "\n",
      "        0.0       0.84      0.93      0.88        28\n",
      "        1.0       0.80      0.62      0.70        13\n",
      "\n",
      "avg / total       0.83      0.83      0.82        41\n",
      "\n"
     ]
    }
   ],
   "source": [
    "print(classification_report(y_test, y_pred_test))"
   ]
  },
  {
   "cell_type": "code",
   "execution_count": 12,
   "metadata": {},
   "outputs": [
    {
     "name": "stdout",
     "output_type": "stream",
     "text": [
      "[[26  2]\n",
      " [ 5  8]]\n"
     ]
    }
   ],
   "source": [
    "print(confusion_matrix(y_test, y_pred_test))"
   ]
  },
  {
   "cell_type": "markdown",
   "metadata": {},
   "source": [
    "Using the simple logistic model on the test set, we correctly classified 26 pacients with ALL and 8 pacients with AML, and misclassified 2 pacients with ALL (i.e. the model predicted AML) and 5 pacients with AML."
   ]
  },
  {
   "cell_type": "markdown",
   "metadata": {},
   "source": [
    "## 2 . Multiple Logistic Regression"
   ]
  },
  {
   "cell_type": "markdown",
   "metadata": {},
   "source": [
    "I will now fit a multiple logistic regression model using all gene predictors:"
   ]
  },
  {
   "cell_type": "code",
   "execution_count": 13,
   "metadata": {},
   "outputs": [
    {
     "name": "stdout",
     "output_type": "stream",
     "text": [
      "Accuracy on training set: 1.0\n",
      "Accuracy on test set: 0.926829268292683\n"
     ]
    }
   ],
   "source": [
    "mult_logreg = LogisticRegression(C=100000)\n",
    "mult_logreg.fit(X_train, y_train)\n",
    "mlog_y_pred_train = mult_logreg.predict(X_train)\n",
    "mlog_y_pred_test = mult_logreg.predict(X_test)\n",
    "print('Accuracy on training set: {}\\nAccuracy on test set: {}'.format(accuracy_score(y_train, mlog_y_pred_train),\n",
    "                                                                     accuracy_score(y_test, mlog_y_pred_test)))"
   ]
  },
  {
   "cell_type": "markdown",
   "metadata": {},
   "source": [
    "This model has better performance than the simple logistic one."
   ]
  },
  {
   "cell_type": "code",
   "execution_count": 14,
   "metadata": {},
   "outputs": [
    {
     "data": {
      "text/plain": [
       "array([[28,  0],\n",
       "       [ 3, 10]], dtype=int64)"
      ]
     },
     "execution_count": 14,
     "metadata": {},
     "output_type": "execute_result"
    }
   ],
   "source": [
    "confusion_matrix(y_test, mlog_y_pred_test)"
   ]
  },
  {
   "cell_type": "markdown",
   "metadata": {},
   "source": [
    "## 3 . Significance of coefficients"
   ]
  },
  {
   "cell_type": "markdown",
   "metadata": {},
   "source": [
    "In this subsection I will look at the significance of the multiple logistic regression coefficients at 0.05 level. A significance level of 0.05 means there is a probability of at most 0.05 of concluding that a regression coefficient is non-zero, when actually it is null (i.e. does not contribute to the model). This is equivalent to looking at the 95% confidence interval for a coefficient and rejecting the null hypothesis (which states that the regression coefficient is null) if this confidence interval does not contain 0. Given the dimensions of the dataset, I will use bootstrapping with 100 sample drawings."
   ]
  },
  {
   "cell_type": "code",
   "execution_count": 15,
   "metadata": {},
   "outputs": [],
   "source": [
    "coeffs=np.zeros((100, X_train.shape[1]+1))\n",
    "for k in range(100):\n",
    "    boot_logistic = LogisticRegression(C=100000)\n",
    "    sample_ind = np.random.choice(range(len(y_train)), size=len(y_train), replace=True)\n",
    "    X_train_sample, y_train_sample = X_train.values[sample_ind], y_train.values[sample_ind]\n",
    "    boot_logistic.fit(X_train_sample, y_train_sample)\n",
    "    all_coeffs = np.append(boot_logistic.coef_, boot_logistic.intercept_)\n",
    "    coeffs[k, :] = all_coeffs"
   ]
  },
  {
   "cell_type": "markdown",
   "metadata": {},
   "source": [
    "For each coefficient we have 100 values, from each sampling. Compute the 95% confidence interval by computing the 97.5 and 2.5 percentiles:"
   ]
  },
  {
   "cell_type": "code",
   "execution_count": 16,
   "metadata": {},
   "outputs": [
    {
     "name": "stdout",
     "output_type": "stream",
     "text": [
      "Number of coefficients significantly different from 0: 1881 out of 7130\n"
     ]
    }
   ],
   "source": [
    "# Compute the bootstrap confidence intervals\n",
    "# Significantly different from 0 when the above C.I. does not contain 0\n",
    "sig_diff = 0\n",
    "for i in range(coeffs.shape[1]):\n",
    "    upper_ci = np.percentile(coeffs[:,i], q=97.5)\n",
    "    lower_ci = np.percentile(coeffs[:,i], q=2.5)\n",
    "    if lower_ci>0 or upper_ci<0:\n",
    "        sig_diff+=1\n",
    "print('Number of coefficients significantly different from 0: {} out of {}'.format(sig_diff, coeffs.shape[1]))"
   ]
  },
  {
   "cell_type": "markdown",
   "metadata": {},
   "source": [
    "## 4 . Dimension Reduction via PCA"
   ]
  },
  {
   "cell_type": "markdown",
   "metadata": {},
   "source": [
    "Since we have a 7129 predictors for only 32 samples, using Principal Components Analysis might provide better test set accuracy. In what follows I will fit a logistic regression model to the vector of principal components of the training set, where the number of principal components will be chosen through 5-fold cross-validation. For simplicity, I will keep the number of principal components below 30."
   ]
  },
  {
   "cell_type": "code",
   "execution_count": 23,
   "metadata": {},
   "outputs": [
    {
     "name": "stdout",
     "output_type": "stream",
     "text": [
      "Optimal number of principal components chosen through CV: 11\n"
     ]
    }
   ],
   "source": [
    "cv_scores=np.zeros((30,))\n",
    "for i in range(30):\n",
    "    pca = PCA(n_components=i+1)\n",
    "    X_train_pca = pca.fit_transform(X_train)\n",
    "    cv_scores[i] = np.mean(cross_val_score(LogisticRegression(C=100000), X=X_train_pca, y=y_train, cv=5))\n",
    "opt_components = np.argmax(cv_scores)+1\n",
    "print('Optimal number of principal components chosen through CV: {}'.format(opt_components))"
   ]
  },
  {
   "cell_type": "code",
   "execution_count": 24,
   "metadata": {},
   "outputs": [
    {
     "name": "stdout",
     "output_type": "stream",
     "text": [
      "Test set accuracy: 0.9512195121951219\n"
     ]
    }
   ],
   "source": [
    "# Evaluate this new model on the test set\n",
    "pca_opt = PCA(n_components=opt_components)\n",
    "X_train_pca = pca_opt.fit_transform(X_train)\n",
    "X_test_pca = pca_opt.transform(X_test)\n",
    "pca_opt_logreg = LogisticRegression()\n",
    "pca_opt_logreg.fit(X_train_pca, y_train)\n",
    "pca_opt_y_pred_test = pca_opt_logreg.predict(X_test_pca)\n",
    "print('Test set accuracy: {}'.format(accuracy_score(y_test, pca_opt_y_pred_test)))"
   ]
  },
  {
   "cell_type": "code",
   "execution_count": 25,
   "metadata": {},
   "outputs": [
    {
     "data": {
      "text/plain": [
       "array([[27,  1],\n",
       "       [ 1, 12]], dtype=int64)"
      ]
     },
     "execution_count": 25,
     "metadata": {},
     "output_type": "execute_result"
    }
   ],
   "source": [
    "confusion_matrix(y_test, pca_opt_y_pred_test)"
   ]
  },
  {
   "cell_type": "markdown",
   "metadata": {},
   "source": [
    "It looks like logistic regression + PCA only gives marginal improvement on the test set over just logistic regression."
   ]
  }
 ],
 "metadata": {
  "kernelspec": {
   "display_name": "Python 3",
   "language": "python",
   "name": "python3"
  },
  "language_info": {
   "codemirror_mode": {
    "name": "ipython",
    "version": 3
   },
   "file_extension": ".py",
   "mimetype": "text/x-python",
   "name": "python",
   "nbconvert_exporter": "python",
   "pygments_lexer": "ipython3",
   "version": "3.6.3"
  }
 },
 "nbformat": 4,
 "nbformat_minor": 2
}
